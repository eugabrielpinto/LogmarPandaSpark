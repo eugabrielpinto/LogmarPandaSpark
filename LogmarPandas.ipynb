{
 "cells": [
  {
   "cell_type": "markdown",
   "metadata": {},
   "source": [
    "## Principais Métricas:\n",
    "Faturamento anual: Qual a faixa de faturamento anual da empresa? \\\n",
    "Tipo de carga: Que tipo de carga os clientes movimentam com mais frequência? \\\n",
    "Localização geográfica: Em qual região geográfica a maior parte dos clientes estão localizados? \\\n",
    "Tempo de parceria: Quais são os 4 clientes mais antigos? \\\n",
    "Empresa que mais investiu na Logmar: Qual empresa realizou maior investimento na empresa? \\\n",
    "Qual empresa menos investiu na Logmar?"
   ]
  },
  {
   "cell_type": "code",
   "execution_count": 18,
   "metadata": {},
   "outputs": [],
   "source": [
    "#Aqui eu crio o DataFrame\n",
    "\n",
    "import pandas as pd\n",
    "\n",
    "df = pd.read_csv('C:/Users/gabri/Documents/LogMar/LogmarClientes.csv')"
   ]
  },
  {
   "cell_type": "code",
   "execution_count": 19,
   "metadata": {},
   "outputs": [
    {
     "data": {
      "text/html": [
       "<div>\n",
       "<style scoped>\n",
       "    .dataframe tbody tr th:only-of-type {\n",
       "        vertical-align: middle;\n",
       "    }\n",
       "\n",
       "    .dataframe tbody tr th {\n",
       "        vertical-align: top;\n",
       "    }\n",
       "\n",
       "    .dataframe thead th {\n",
       "        text-align: right;\n",
       "    }\n",
       "</style>\n",
       "<table border=\"1\" class=\"dataframe\">\n",
       "  <thead>\n",
       "    <tr style=\"text-align: right;\">\n",
       "      <th></th>\n",
       "      <th>Código Cliente</th>\n",
       "      <th>Nome Empresa</th>\n",
       "      <th>Pagamento Anual</th>\n",
       "      <th>Tipo de Carga</th>\n",
       "      <th>Localização</th>\n",
       "      <th>Início Parceria</th>\n",
       "    </tr>\n",
       "  </thead>\n",
       "  <tbody>\n",
       "    <tr>\n",
       "      <th>0</th>\n",
       "      <td>CLNT23784</td>\n",
       "      <td>TransLogística</td>\n",
       "      <td>3700000.0</td>\n",
       "      <td>Contêineres</td>\n",
       "      <td>São Paulo</td>\n",
       "      <td>4/12/2023</td>\n",
       "    </tr>\n",
       "    <tr>\n",
       "      <th>1</th>\n",
       "      <td>CLNT82456</td>\n",
       "      <td>TransEnvios</td>\n",
       "      <td>1900000.0</td>\n",
       "      <td>Granel Sólido</td>\n",
       "      <td>Rio de Janeiro</td>\n",
       "      <td>9/30/2022</td>\n",
       "    </tr>\n",
       "    <tr>\n",
       "      <th>2</th>\n",
       "      <td>CLNT39102</td>\n",
       "      <td>LogCity</td>\n",
       "      <td>2600000.0</td>\n",
       "      <td>Contêineres</td>\n",
       "      <td>Paraná</td>\n",
       "      <td>11/5/2023</td>\n",
       "    </tr>\n",
       "    <tr>\n",
       "      <th>3</th>\n",
       "      <td>CLNT14923</td>\n",
       "      <td>MegaCargas</td>\n",
       "      <td>1400000.0</td>\n",
       "      <td>Granel Líquido</td>\n",
       "      <td>Bahia</td>\n",
       "      <td>7/20/2023</td>\n",
       "    </tr>\n",
       "    <tr>\n",
       "      <th>4</th>\n",
       "      <td>CLNT50761</td>\n",
       "      <td>SuperTransporte</td>\n",
       "      <td>4300000.0</td>\n",
       "      <td>Contêineres</td>\n",
       "      <td>Santa Catarina</td>\n",
       "      <td>2/28/2023</td>\n",
       "    </tr>\n",
       "    <tr>\n",
       "      <th>5</th>\n",
       "      <td>CLNT62481</td>\n",
       "      <td>LogFax</td>\n",
       "      <td>2000000.0</td>\n",
       "      <td>Granel Sólido</td>\n",
       "      <td>Minas Gerais</td>\n",
       "      <td>10/14/2022</td>\n",
       "    </tr>\n",
       "    <tr>\n",
       "      <th>6</th>\n",
       "      <td>CLNT89572</td>\n",
       "      <td>GlobalFrete</td>\n",
       "      <td>3500000.0</td>\n",
       "      <td>Contêineres</td>\n",
       "      <td>Rio Grande do Sul</td>\n",
       "      <td>6/9/2023</td>\n",
       "    </tr>\n",
       "    <tr>\n",
       "      <th>7</th>\n",
       "      <td>CLNT40215</td>\n",
       "      <td>MundoLog</td>\n",
       "      <td>1800000.0</td>\n",
       "      <td>Granel Líquido</td>\n",
       "      <td>Espírito Santo</td>\n",
       "      <td>8/22/2023</td>\n",
       "    </tr>\n",
       "    <tr>\n",
       "      <th>8</th>\n",
       "      <td>CLNT73049</td>\n",
       "      <td>TransHelax</td>\n",
       "      <td>2900000.0</td>\n",
       "      <td>Contêineres</td>\n",
       "      <td>Amazonas</td>\n",
       "      <td>3/18/2023</td>\n",
       "    </tr>\n",
       "    <tr>\n",
       "      <th>9</th>\n",
       "      <td>CLNT95270</td>\n",
       "      <td>LogExpress</td>\n",
       "      <td>2200000.0</td>\n",
       "      <td>Granel Sólido</td>\n",
       "      <td>Pernambuco</td>\n",
       "      <td>12/1/2022</td>\n",
       "    </tr>\n",
       "    <tr>\n",
       "      <th>10</th>\n",
       "      <td>CLNT10236</td>\n",
       "      <td>ExpressLogística</td>\n",
       "      <td>2400000.0</td>\n",
       "      <td>Contêineres</td>\n",
       "      <td>Rio Grande do Norte</td>\n",
       "      <td>5/7/2023</td>\n",
       "    </tr>\n",
       "    <tr>\n",
       "      <th>11</th>\n",
       "      <td>CLNT17853</td>\n",
       "      <td>TransGetex</td>\n",
       "      <td>1600000.0</td>\n",
       "      <td>Granel Sólido</td>\n",
       "      <td>Ceará</td>\n",
       "      <td>9/25/2022</td>\n",
       "    </tr>\n",
       "    <tr>\n",
       "      <th>12</th>\n",
       "      <td>CLNT64895</td>\n",
       "      <td>PortuárioBR</td>\n",
       "      <td>4000000.0</td>\n",
       "      <td>Contêineres</td>\n",
       "      <td>Sergipe</td>\n",
       "      <td>7/14/2023</td>\n",
       "    </tr>\n",
       "    <tr>\n",
       "      <th>13</th>\n",
       "      <td>CLNT79301</td>\n",
       "      <td>BRPortos</td>\n",
       "      <td>2100000.0</td>\n",
       "      <td>Granel Líquido</td>\n",
       "      <td>Mato Grosso</td>\n",
       "      <td>11/3/2022</td>\n",
       "    </tr>\n",
       "    <tr>\n",
       "      <th>14</th>\n",
       "      <td>CLNT26489</td>\n",
       "      <td>TransFedex</td>\n",
       "      <td>3200000.0</td>\n",
       "      <td>Contêineres</td>\n",
       "      <td>Rio Grande do Norte</td>\n",
       "      <td>8/10/2023</td>\n",
       "    </tr>\n",
       "    <tr>\n",
       "      <th>15</th>\n",
       "      <td>CLNT58420</td>\n",
       "      <td>MovCargo</td>\n",
       "      <td>2300000.0</td>\n",
       "      <td>Granel Sólido</td>\n",
       "      <td>Goiás</td>\n",
       "      <td>12/5/2022</td>\n",
       "    </tr>\n",
       "    <tr>\n",
       "      <th>16</th>\n",
       "      <td>CLNT93467</td>\n",
       "      <td>CargoMov</td>\n",
       "      <td>3100000.0</td>\n",
       "      <td>Contêineres</td>\n",
       "      <td>Amapá</td>\n",
       "      <td>5/22/2023</td>\n",
       "    </tr>\n",
       "    <tr>\n",
       "      <th>17</th>\n",
       "      <td>CLNT70123</td>\n",
       "      <td>TransEx</td>\n",
       "      <td>1700000.0</td>\n",
       "      <td>Granel Líquido</td>\n",
       "      <td>Rondônia</td>\n",
       "      <td>9/15/2022</td>\n",
       "    </tr>\n",
       "    <tr>\n",
       "      <th>18</th>\n",
       "      <td>CLNT31947</td>\n",
       "      <td>BrasilMar</td>\n",
       "      <td>2900000.0</td>\n",
       "      <td>Contêineres</td>\n",
       "      <td>Tocantins</td>\n",
       "      <td>11/27/2023</td>\n",
       "    </tr>\n",
       "    <tr>\n",
       "      <th>19</th>\n",
       "      <td>CLNT84639</td>\n",
       "      <td>MarBrasil</td>\n",
       "      <td>1600000.0</td>\n",
       "      <td>Granel Sólido</td>\n",
       "      <td>Maranhão</td>\n",
       "      <td>7/18/2023</td>\n",
       "    </tr>\n",
       "    <tr>\n",
       "      <th>20</th>\n",
       "      <td>CLNT57384</td>\n",
       "      <td>TransDitex</td>\n",
       "      <td>2200000.0</td>\n",
       "      <td>Contêineres</td>\n",
       "      <td>Acre</td>\n",
       "      <td>2/3/2023</td>\n",
       "    </tr>\n",
       "    <tr>\n",
       "      <th>21</th>\n",
       "      <td>CLNT21965</td>\n",
       "      <td>CargoMaster</td>\n",
       "      <td>2500000.0</td>\n",
       "      <td>Granel Sólido</td>\n",
       "      <td>Paraíba</td>\n",
       "      <td>11/29/2022</td>\n",
       "    </tr>\n",
       "    <tr>\n",
       "      <th>22</th>\n",
       "      <td>CLNT90753</td>\n",
       "      <td>MasterCargas</td>\n",
       "      <td>3800000.0</td>\n",
       "      <td>Contêineres</td>\n",
       "      <td>Amapá</td>\n",
       "      <td>7/17/2023</td>\n",
       "    </tr>\n",
       "    <tr>\n",
       "      <th>23</th>\n",
       "      <td>CLNT41629</td>\n",
       "      <td>TransCidex</td>\n",
       "      <td>2600000.0</td>\n",
       "      <td>Granel Líquido</td>\n",
       "      <td>Rio Grande do Sul</td>\n",
       "      <td>5/5/2023</td>\n",
       "    </tr>\n",
       "    <tr>\n",
       "      <th>24</th>\n",
       "      <td>CLNT63584</td>\n",
       "      <td>LogísticaTotal</td>\n",
       "      <td>4000000.0</td>\n",
       "      <td>Contêineres</td>\n",
       "      <td>Espírito Santo</td>\n",
       "      <td>2/11/2023</td>\n",
       "    </tr>\n",
       "    <tr>\n",
       "      <th>25</th>\n",
       "      <td>CLNT83946</td>\n",
       "      <td>TotalLogística</td>\n",
       "      <td>2800000.0</td>\n",
       "      <td>Granel Sólido</td>\n",
       "      <td>Paraná</td>\n",
       "      <td>10/27/2022</td>\n",
       "    </tr>\n",
       "    <tr>\n",
       "      <th>26</th>\n",
       "      <td>CLNT56290</td>\n",
       "      <td>TransBedex</td>\n",
       "      <td>3700000.0</td>\n",
       "      <td>Contêineres</td>\n",
       "      <td>Rio de Janeiro</td>\n",
       "      <td>9/6/2023</td>\n",
       "    </tr>\n",
       "    <tr>\n",
       "      <th>27</th>\n",
       "      <td>CLNT19824</td>\n",
       "      <td>PortoRápido</td>\n",
       "      <td>1600000.0</td>\n",
       "      <td>Granel Líquido</td>\n",
       "      <td>Espírito Santo</td>\n",
       "      <td>3/19/2023</td>\n",
       "    </tr>\n",
       "    <tr>\n",
       "      <th>28</th>\n",
       "      <td>CLNT75420</td>\n",
       "      <td>RapidPorto</td>\n",
       "      <td>2800000.0</td>\n",
       "      <td>Contêineres</td>\n",
       "      <td>Amazonas</td>\n",
       "      <td>7/30/2022</td>\n",
       "    </tr>\n",
       "    <tr>\n",
       "      <th>29</th>\n",
       "      <td>CLNT49012</td>\n",
       "      <td>TransAdex</td>\n",
       "      <td>1900000.0</td>\n",
       "      <td>Granel Sólido</td>\n",
       "      <td>Minas Gerais</td>\n",
       "      <td>12/14/2022</td>\n",
       "    </tr>\n",
       "  </tbody>\n",
       "</table>\n",
       "</div>"
      ],
      "text/plain": [
       "   Código Cliente      Nome Empresa  Pagamento Anual   Tipo de Carga  \\\n",
       "0       CLNT23784    TransLogística        3700000.0     Contêineres   \n",
       "1       CLNT82456       TransEnvios        1900000.0   Granel Sólido   \n",
       "2       CLNT39102           LogCity        2600000.0     Contêineres   \n",
       "3       CLNT14923        MegaCargas        1400000.0  Granel Líquido   \n",
       "4       CLNT50761   SuperTransporte        4300000.0     Contêineres   \n",
       "5       CLNT62481            LogFax        2000000.0   Granel Sólido   \n",
       "6       CLNT89572       GlobalFrete        3500000.0     Contêineres   \n",
       "7       CLNT40215          MundoLog        1800000.0  Granel Líquido   \n",
       "8       CLNT73049        TransHelax        2900000.0     Contêineres   \n",
       "9       CLNT95270        LogExpress        2200000.0   Granel Sólido   \n",
       "10      CLNT10236  ExpressLogística        2400000.0     Contêineres   \n",
       "11      CLNT17853        TransGetex        1600000.0   Granel Sólido   \n",
       "12      CLNT64895       PortuárioBR        4000000.0     Contêineres   \n",
       "13      CLNT79301          BRPortos        2100000.0  Granel Líquido   \n",
       "14      CLNT26489        TransFedex        3200000.0     Contêineres   \n",
       "15      CLNT58420          MovCargo        2300000.0   Granel Sólido   \n",
       "16      CLNT93467          CargoMov        3100000.0     Contêineres   \n",
       "17      CLNT70123           TransEx        1700000.0  Granel Líquido   \n",
       "18      CLNT31947         BrasilMar        2900000.0     Contêineres   \n",
       "19      CLNT84639         MarBrasil        1600000.0   Granel Sólido   \n",
       "20      CLNT57384        TransDitex        2200000.0     Contêineres   \n",
       "21      CLNT21965       CargoMaster        2500000.0   Granel Sólido   \n",
       "22      CLNT90753      MasterCargas        3800000.0     Contêineres   \n",
       "23      CLNT41629        TransCidex        2600000.0  Granel Líquido   \n",
       "24      CLNT63584    LogísticaTotal        4000000.0     Contêineres   \n",
       "25      CLNT83946    TotalLogística        2800000.0   Granel Sólido   \n",
       "26      CLNT56290        TransBedex        3700000.0     Contêineres   \n",
       "27      CLNT19824       PortoRápido        1600000.0  Granel Líquido   \n",
       "28      CLNT75420        RapidPorto        2800000.0     Contêineres   \n",
       "29      CLNT49012         TransAdex        1900000.0   Granel Sólido   \n",
       "\n",
       "            Localização Início Parceria  \n",
       "0             São Paulo       4/12/2023  \n",
       "1        Rio de Janeiro       9/30/2022  \n",
       "2                Paraná       11/5/2023  \n",
       "3                 Bahia       7/20/2023  \n",
       "4        Santa Catarina       2/28/2023  \n",
       "5          Minas Gerais      10/14/2022  \n",
       "6     Rio Grande do Sul        6/9/2023  \n",
       "7        Espírito Santo       8/22/2023  \n",
       "8              Amazonas       3/18/2023  \n",
       "9            Pernambuco       12/1/2022  \n",
       "10  Rio Grande do Norte        5/7/2023  \n",
       "11                Ceará       9/25/2022  \n",
       "12              Sergipe       7/14/2023  \n",
       "13          Mato Grosso       11/3/2022  \n",
       "14  Rio Grande do Norte       8/10/2023  \n",
       "15                Goiás       12/5/2022  \n",
       "16                Amapá       5/22/2023  \n",
       "17             Rondônia       9/15/2022  \n",
       "18            Tocantins      11/27/2023  \n",
       "19             Maranhão       7/18/2023  \n",
       "20                 Acre        2/3/2023  \n",
       "21              Paraíba      11/29/2022  \n",
       "22                Amapá       7/17/2023  \n",
       "23    Rio Grande do Sul        5/5/2023  \n",
       "24       Espírito Santo       2/11/2023  \n",
       "25               Paraná      10/27/2022  \n",
       "26       Rio de Janeiro        9/6/2023  \n",
       "27       Espírito Santo       3/19/2023  \n",
       "28             Amazonas       7/30/2022  \n",
       "29         Minas Gerais      12/14/2022  "
      ]
     },
     "execution_count": 19,
     "metadata": {},
     "output_type": "execute_result"
    }
   ],
   "source": [
    "df"
   ]
  },
  {
   "cell_type": "code",
   "execution_count": 20,
   "metadata": {},
   "outputs": [],
   "source": [
    "#Aqui eu mudo a coluna Inicio Parceria para formato de data\n",
    "df['Início Parceria'] = pd.to_datetime(df['Início Parceria'], format='%m/%d/%Y')"
   ]
  },
  {
   "cell_type": "code",
   "execution_count": 21,
   "metadata": {},
   "outputs": [
    {
     "data": {
      "text/plain": [
       "0    2023-04-12\n",
       "1    2022-09-30\n",
       "2    2023-11-05\n",
       "3    2023-07-20\n",
       "4    2023-02-28\n",
       "5    2022-10-14\n",
       "6    2023-06-09\n",
       "7    2023-08-22\n",
       "8    2023-03-18\n",
       "9    2022-12-01\n",
       "10   2023-05-07\n",
       "11   2022-09-25\n",
       "12   2023-07-14\n",
       "13   2022-11-03\n",
       "14   2023-08-10\n",
       "15   2022-12-05\n",
       "16   2023-05-22\n",
       "17   2022-09-15\n",
       "18   2023-11-27\n",
       "19   2023-07-18\n",
       "20   2023-02-03\n",
       "21   2022-11-29\n",
       "22   2023-07-17\n",
       "23   2023-05-05\n",
       "24   2023-02-11\n",
       "25   2022-10-27\n",
       "26   2023-09-06\n",
       "27   2023-03-19\n",
       "28   2022-07-30\n",
       "29   2022-12-14\n",
       "Name: Início Parceria, dtype: datetime64[ns]"
      ]
     },
     "execution_count": 21,
     "metadata": {},
     "output_type": "execute_result"
    }
   ],
   "source": [
    "df['Início Parceria']"
   ]
  },
  {
   "cell_type": "markdown",
   "metadata": {},
   "source": [
    "## Qual Faturamento Anual?"
   ]
  },
  {
   "cell_type": "code",
   "execution_count": 22,
   "metadata": {},
   "outputs": [
    {
     "name": "stdout",
     "output_type": "stream",
     "text": [
      "O Faturamento Anual da Logmar é de: R$ 79100000.0\n"
     ]
    }
   ],
   "source": [
    "faturamentoAnual = df['Pagamento Anual'].sum()\n",
    "print('O Faturamento Anual da Logmar é de: R$', faturamentoAnual)"
   ]
  },
  {
   "cell_type": "markdown",
   "metadata": {},
   "source": [
    "## Qual o tipo de carga mais frequente?"
   ]
  },
  {
   "cell_type": "code",
   "execution_count": 23,
   "metadata": {},
   "outputs": [
    {
     "name": "stdout",
     "output_type": "stream",
     "text": [
      "O tipo de carga mais frequente é: Contêineres\n"
     ]
    }
   ],
   "source": [
    "tipoCargaMaisFrequente = df['Tipo de Carga'].value_counts().idxmax()\n",
    "print('O tipo de carga mais frequente é:', tipoCargaMaisFrequente)"
   ]
  },
  {
   "cell_type": "markdown",
   "metadata": {},
   "source": [
    "## Localização da maior parte dos clientes?"
   ]
  },
  {
   "cell_type": "code",
   "execution_count": 24,
   "metadata": {},
   "outputs": [
    {
     "name": "stdout",
     "output_type": "stream",
     "text": [
      "A região com mais clientes é: Espírito Santo\n"
     ]
    }
   ],
   "source": [
    "regiaoMaisClientes = df['Localização'].value_counts().idxmax()\n",
    "print('A região com mais clientes é:', regiaoMaisClientes)"
   ]
  },
  {
   "cell_type": "markdown",
   "metadata": {},
   "source": [
    "## Quais são os 4 clientes mais antigos?"
   ]
  },
  {
   "cell_type": "code",
   "execution_count": 8,
   "metadata": {},
   "outputs": [
    {
     "name": "stdout",
     "output_type": "stream",
     "text": [
      "Os quatro clientes mais antigos são:\n",
      "    Código Cliente Nome Empresa  Pagamento Anual   Tipo de Carga  \\\n",
      "28      CLNT75420   RapidPorto        2800000.0     Contêineres   \n",
      "17      CLNT70123      TransEx        1700000.0  Granel Líquido   \n",
      "11      CLNT17853   TransGetex        1600000.0   Granel Sólido   \n",
      "1       CLNT82456  TransEnvios        1900000.0   Granel Sólido   \n",
      "\n",
      "       Localização Início Parceria  \n",
      "28        Amazonas      2022-07-30  \n",
      "17        Rondônia      2022-09-15  \n",
      "11           Ceará      2022-09-25  \n",
      "1   Rio de Janeiro      2022-09-30  \n"
     ]
    }
   ],
   "source": [
    "clientesMaisAntigos = df.nsmallest(4, 'Início Parceria')\n",
    "print('Os quatro clientes mais antigos são:\\n', clientesMaisAntigos)"
   ]
  },
  {
   "cell_type": "markdown",
   "metadata": {},
   "source": [
    "## Qual empresa realizou maior investimento na Logmar?"
   ]
  },
  {
   "cell_type": "code",
   "execution_count": 18,
   "metadata": {},
   "outputs": [
    {
     "name": "stdout",
     "output_type": "stream",
     "text": [
      "A empresa que mais investiu na Logmar foi: SuperTransporte com um total de: R$ 4300000.0\n"
     ]
    }
   ],
   "source": [
    "maiorInvestimento = df[df['Pagamento Anual'] == df['Pagamento Anual'].max()]\n",
    "\n",
    "print('A empresa que mais investiu na Logmar foi:', maiorInvestimento['Nome Empresa'].values[0], 'com um total de: R$', maiorInvestimento['Pagamento Anual'].values[0])"
   ]
  },
  {
   "cell_type": "markdown",
   "metadata": {},
   "source": [
    "## Qual empresa realizou menor investimento na Logmar?"
   ]
  },
  {
   "cell_type": "code",
   "execution_count": 20,
   "metadata": {},
   "outputs": [
    {
     "name": "stdout",
     "output_type": "stream",
     "text": [
      "A empresa que menos investiu na Logmar foi: MegaCargas com um total de: R$ 1400000.0\n"
     ]
    }
   ],
   "source": [
    "menorInvestimento = df[df['Pagamento Anual'] == df['Pagamento Anual'].min()]\n",
    "print('A empresa que menos investiu na Logmar foi:', menorInvestimento['Nome Empresa'].values[0], 'com um total de: R$', menorInvestimento['Pagamento Anual'].values[0])"
   ]
  }
 ],
 "metadata": {
  "kernelspec": {
   "display_name": "base",
   "language": "python",
   "name": "python3"
  },
  "language_info": {
   "codemirror_mode": {
    "name": "ipython",
    "version": 3
   },
   "file_extension": ".py",
   "mimetype": "text/x-python",
   "name": "python",
   "nbconvert_exporter": "python",
   "pygments_lexer": "ipython3",
   "version": "3.11.4"
  }
 },
 "nbformat": 4,
 "nbformat_minor": 2
}
