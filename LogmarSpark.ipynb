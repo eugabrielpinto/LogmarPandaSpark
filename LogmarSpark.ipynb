{
 "cells": [
  {
   "cell_type": "markdown",
   "metadata": {},
   "source": [
    "## Principais Métricas:\n",
    "Faturamento anual: Qual a faixa de faturamento anual da empresa? \\\n",
    "Tipo de carga: Que tipo de carga os clientes movimentam com mais frequência? \\\n",
    "Localização geográfica: Em qual região geográfica a maior parte dos clientes estão localizados? \\\n",
    "Tempo de parceria: Quais são os 4 clientes mais antigos? \\\n",
    "Empresa que mais investiu na Logmar: Qual empresa realizou maior investimento na empresa? \\\n",
    "Qual empresa menos investiu na Logmar?"
   ]
  },
  {
   "cell_type": "code",
   "execution_count": 65,
   "metadata": {},
   "outputs": [],
   "source": [
    "#Aqui eu crio o DataFrame\n",
    "\n",
    "from pyspark.sql import SparkSession\n",
    "\n",
    "spark = SparkSession.builder.appName(\"Logmar Clientes\").getOrCreate()\n",
    "\n",
    "df = spark.read.csv(\"C:/Users/gabri/Documents/LogMar/LogmarClientes.csv\", header=True, inferSchema=True)"
   ]
  },
  {
   "cell_type": "code",
   "execution_count": 66,
   "metadata": {},
   "outputs": [
    {
     "name": "stdout",
     "output_type": "stream",
     "text": [
      "root\n",
      " |-- Código Cliente: string (nullable = true)\n",
      " |-- Nome Empresa: string (nullable = true)\n",
      " |-- Pagamento Anual: double (nullable = true)\n",
      " |-- Tipo de Carga: string (nullable = true)\n",
      " |-- Localização: string (nullable = true)\n",
      " |-- Início Parceria: string (nullable = true)\n",
      "\n"
     ]
    }
   ],
   "source": [
    "df.printSchema()"
   ]
  },
  {
   "cell_type": "code",
   "execution_count": 67,
   "metadata": {},
   "outputs": [
    {
     "name": "stdout",
     "output_type": "stream",
     "text": [
      "+--------------+----------------+---------------+--------------+-------------------+---------------+\n",
      "|Código Cliente|    Nome Empresa|Pagamento Anual| Tipo de Carga|        Localização|Início Parceria|\n",
      "+--------------+----------------+---------------+--------------+-------------------+---------------+\n",
      "|     CLNT23784|  TransLogística|      3700000.0|   Contêineres|          São Paulo|      4/12/2023|\n",
      "|     CLNT82456|     TransEnvios|      1900000.0| Granel Sólido|     Rio de Janeiro|      9/30/2022|\n",
      "|     CLNT39102|         LogCity|      2600000.0|   Contêineres|             Paraná|      11/5/2023|\n",
      "|     CLNT14923|      MegaCargas|      1400000.0|Granel Líquido|              Bahia|      7/20/2023|\n",
      "|     CLNT50761| SuperTransporte|      4300000.0|   Contêineres|     Santa Catarina|      2/28/2023|\n",
      "|     CLNT62481|          LogFax|      2000000.0| Granel Sólido|       Minas Gerais|     10/14/2022|\n",
      "|     CLNT89572|     GlobalFrete|      3500000.0|   Contêineres|  Rio Grande do Sul|       6/9/2023|\n",
      "|     CLNT40215|        MundoLog|      1800000.0|Granel Líquido|     Espírito Santo|      8/22/2023|\n",
      "|     CLNT73049|      TransHelax|      2900000.0|   Contêineres|           Amazonas|      3/18/2023|\n",
      "|     CLNT95270|      LogExpress|      2200000.0| Granel Sólido|         Pernambuco|      12/1/2022|\n",
      "|     CLNT10236|ExpressLogística|      2400000.0|   Contêineres|Rio Grande do Norte|       5/7/2023|\n",
      "|     CLNT17853|      TransGetex|      1600000.0| Granel Sólido|              Ceará|      9/25/2022|\n",
      "|     CLNT64895|     PortuárioBR|      4000000.0|   Contêineres|            Sergipe|      7/14/2023|\n",
      "|     CLNT79301|        BRPortos|      2100000.0|Granel Líquido|        Mato Grosso|      11/3/2022|\n",
      "|     CLNT26489|      TransFedex|      3200000.0|   Contêineres|Rio Grande do Norte|      8/10/2023|\n",
      "|     CLNT58420|        MovCargo|      2300000.0| Granel Sólido|              Goiás|      12/5/2022|\n",
      "|     CLNT93467|        CargoMov|      3100000.0|   Contêineres|              Amapá|      5/22/2023|\n",
      "|     CLNT70123|         TransEx|      1700000.0|Granel Líquido|           Rondônia|      9/15/2022|\n",
      "|     CLNT31947|       BrasilMar|      2900000.0|   Contêineres|          Tocantins|     11/27/2023|\n",
      "|     CLNT84639|       MarBrasil|      1600000.0| Granel Sólido|           Maranhão|      7/18/2023|\n",
      "+--------------+----------------+---------------+--------------+-------------------+---------------+\n",
      "only showing top 20 rows\n",
      "\n"
     ]
    }
   ],
   "source": [
    "df.show()"
   ]
  },
  {
   "cell_type": "code",
   "execution_count": 68,
   "metadata": {},
   "outputs": [],
   "source": [
    "# Aqui altero inicio parceria de string para date\n",
    "\n",
    "from pyspark.sql.functions import to_date\n",
    "\n",
    "df = df.withColumn('Início Parceria', to_date(df['Início Parceria'], 'M/d/yyyy'))"
   ]
  },
  {
   "cell_type": "code",
   "execution_count": 69,
   "metadata": {},
   "outputs": [
    {
     "name": "stdout",
     "output_type": "stream",
     "text": [
      "root\n",
      " |-- Código Cliente: string (nullable = true)\n",
      " |-- Nome Empresa: string (nullable = true)\n",
      " |-- Pagamento Anual: double (nullable = true)\n",
      " |-- Tipo de Carga: string (nullable = true)\n",
      " |-- Localização: string (nullable = true)\n",
      " |-- Início Parceria: date (nullable = true)\n",
      "\n"
     ]
    }
   ],
   "source": [
    "df.printSchema()"
   ]
  },
  {
   "cell_type": "code",
   "execution_count": 70,
   "metadata": {},
   "outputs": [
    {
     "name": "stdout",
     "output_type": "stream",
     "text": [
      "+--------------+----------------+---------------+--------------+-------------------+---------------+\n",
      "|Código Cliente|    Nome Empresa|Pagamento Anual| Tipo de Carga|        Localização|Início Parceria|\n",
      "+--------------+----------------+---------------+--------------+-------------------+---------------+\n",
      "|     CLNT23784|  TransLogística|      3700000.0|   Contêineres|          São Paulo|     2023-04-12|\n",
      "|     CLNT82456|     TransEnvios|      1900000.0| Granel Sólido|     Rio de Janeiro|     2022-09-30|\n",
      "|     CLNT39102|         LogCity|      2600000.0|   Contêineres|             Paraná|     2023-11-05|\n",
      "|     CLNT14923|      MegaCargas|      1400000.0|Granel Líquido|              Bahia|     2023-07-20|\n",
      "|     CLNT50761| SuperTransporte|      4300000.0|   Contêineres|     Santa Catarina|     2023-02-28|\n",
      "|     CLNT62481|          LogFax|      2000000.0| Granel Sólido|       Minas Gerais|     2022-10-14|\n",
      "|     CLNT89572|     GlobalFrete|      3500000.0|   Contêineres|  Rio Grande do Sul|     2023-06-09|\n",
      "|     CLNT40215|        MundoLog|      1800000.0|Granel Líquido|     Espírito Santo|     2023-08-22|\n",
      "|     CLNT73049|      TransHelax|      2900000.0|   Contêineres|           Amazonas|     2023-03-18|\n",
      "|     CLNT95270|      LogExpress|      2200000.0| Granel Sólido|         Pernambuco|     2022-12-01|\n",
      "|     CLNT10236|ExpressLogística|      2400000.0|   Contêineres|Rio Grande do Norte|     2023-05-07|\n",
      "|     CLNT17853|      TransGetex|      1600000.0| Granel Sólido|              Ceará|     2022-09-25|\n",
      "|     CLNT64895|     PortuárioBR|      4000000.0|   Contêineres|            Sergipe|     2023-07-14|\n",
      "|     CLNT79301|        BRPortos|      2100000.0|Granel Líquido|        Mato Grosso|     2022-11-03|\n",
      "|     CLNT26489|      TransFedex|      3200000.0|   Contêineres|Rio Grande do Norte|     2023-08-10|\n",
      "|     CLNT58420|        MovCargo|      2300000.0| Granel Sólido|              Goiás|     2022-12-05|\n",
      "|     CLNT93467|        CargoMov|      3100000.0|   Contêineres|              Amapá|     2023-05-22|\n",
      "|     CLNT70123|         TransEx|      1700000.0|Granel Líquido|           Rondônia|     2022-09-15|\n",
      "|     CLNT31947|       BrasilMar|      2900000.0|   Contêineres|          Tocantins|     2023-11-27|\n",
      "|     CLNT84639|       MarBrasil|      1600000.0| Granel Sólido|           Maranhão|     2023-07-18|\n",
      "+--------------+----------------+---------------+--------------+-------------------+---------------+\n",
      "only showing top 20 rows\n",
      "\n"
     ]
    }
   ],
   "source": [
    "df.show()"
   ]
  },
  {
   "cell_type": "markdown",
   "metadata": {},
   "source": [
    "## Qual Faturamento Anual?"
   ]
  },
  {
   "cell_type": "code",
   "execution_count": 71,
   "metadata": {},
   "outputs": [
    {
     "name": "stdout",
     "output_type": "stream",
     "text": [
      "O Faturamento Anual da Logmar é de: R$ 79100000.0\n"
     ]
    }
   ],
   "source": [
    "from pyspark.sql.functions import sum\n",
    "\n",
    "faturamentoAnual = df.groupBy().agg(sum('Pagamento Anual'))\n",
    "faturamentoTotal = faturamentoAnual.collect()[0][0]\n",
    "\n",
    "print('O Faturamento Anual da Logmar é de: R$', faturamentoTotal)"
   ]
  },
  {
   "cell_type": "markdown",
   "metadata": {},
   "source": [
    "## Qual o tipo de carga mais frequente?"
   ]
  },
  {
   "cell_type": "code",
   "execution_count": 72,
   "metadata": {},
   "outputs": [
    {
     "name": "stdout",
     "output_type": "stream",
     "text": [
      "O tipo de carga mais frequente é: Contêineres\n"
     ]
    }
   ],
   "source": [
    "from pyspark.sql.functions import desc\n",
    "\n",
    "tipoCargaMaisFrequente = df.groupBy('Tipo de Carga').count().orderBy(desc('count')).first()\n",
    "\n",
    "print('O tipo de carga mais frequente é:', tipoCargaMaisFrequente['Tipo de Carga'])"
   ]
  },
  {
   "cell_type": "markdown",
   "metadata": {},
   "source": [
    "## Localização da maior parte dos clientes?"
   ]
  },
  {
   "cell_type": "code",
   "execution_count": 73,
   "metadata": {},
   "outputs": [
    {
     "name": "stdout",
     "output_type": "stream",
     "text": [
      "Espírito Santo é a região com mais clientes.\n"
     ]
    }
   ],
   "source": [
    "regiaoMaisClientes = df.groupBy('Localização').count().orderBy(desc('count'))\n",
    "\n",
    "regiaoMaisRepetida = df.groupBy('Localização').count().orderBy(desc('count')).first()\n",
    "print(regiaoMaisRepetida['Localização'], 'é a região com mais clientes.')"
   ]
  },
  {
   "cell_type": "markdown",
   "metadata": {},
   "source": [
    "## Quais são os 4 clientes mais antigos?"
   ]
  },
  {
   "cell_type": "code",
   "execution_count": 74,
   "metadata": {},
   "outputs": [
    {
     "name": "stdout",
     "output_type": "stream",
     "text": [
      "Os quatro clientes mais antigos são:\n",
      "+------------+---------------+\n",
      "|Nome Empresa|Início Parceria|\n",
      "+------------+---------------+\n",
      "|  RapidPorto|     2022-07-30|\n",
      "|     TransEx|     2022-09-15|\n",
      "|  TransGetex|     2022-09-25|\n",
      "| TransEnvios|     2022-09-30|\n",
      "+------------+---------------+\n",
      "\n"
     ]
    }
   ],
   "source": [
    "from pyspark.sql.functions import asc\n",
    "\n",
    "clientesMaisAntigos = df.orderBy(asc('Início Parceria')).limit(4)\n",
    "\n",
    "print('Os quatro clientes mais antigos são:')\n",
    "clientesMaisAntigos.select('Nome Empresa', 'Início Parceria').show()"
   ]
  },
  {
   "cell_type": "markdown",
   "metadata": {},
   "source": [
    "## Qual empresa realizou maior investimento na Logmar?"
   ]
  },
  {
   "cell_type": "code",
   "execution_count": 75,
   "metadata": {},
   "outputs": [
    {
     "name": "stdout",
     "output_type": "stream",
     "text": [
      "A empresa que mais investiu na Logmar foi a SuperTransporte com um total de: R$ 4300000.0\n"
     ]
    }
   ],
   "source": [
    "from pyspark.sql.functions import col\n",
    "\n",
    "maiorInvestimento = df.groupBy('Nome Empresa').agg({'Pagamento Anual': 'sum'}).orderBy(col('sum(Pagamento Anual)').desc()).first()\n",
    "\n",
    "print('A empresa que mais investiu na Logmar foi a', maiorInvestimento['Nome Empresa'], 'com um total de: R$', maiorInvestimento['sum(Pagamento Anual)'])"
   ]
  },
  {
   "cell_type": "markdown",
   "metadata": {},
   "source": [
    "## Qual empresa realizou menor investimento na Logmar?"
   ]
  },
  {
   "cell_type": "code",
   "execution_count": 76,
   "metadata": {},
   "outputs": [
    {
     "name": "stdout",
     "output_type": "stream",
     "text": [
      "A empresa que menos investiu na Logmar foi a MegaCargas com um total de: R$ 1400000.0\n"
     ]
    }
   ],
   "source": [
    "menorInvestimento = df.groupBy('Nome Empresa').agg({'Pagamento Anual': 'sum'}).orderBy(col('sum(Pagamento Anual)').asc()).first()\n",
    "\n",
    "print('A empresa que menos investiu na Logmar foi a', menorInvestimento['Nome Empresa'], 'com um total de: R$', menorInvestimento['sum(Pagamento Anual)'])"
   ]
  }
 ],
 "metadata": {
  "kernelspec": {
   "display_name": "base",
   "language": "python",
   "name": "python3"
  },
  "language_info": {
   "codemirror_mode": {
    "name": "ipython",
    "version": 3
   },
   "file_extension": ".py",
   "mimetype": "text/x-python",
   "name": "python",
   "nbconvert_exporter": "python",
   "pygments_lexer": "ipython3",
   "version": "3.11.4"
  }
 },
 "nbformat": 4,
 "nbformat_minor": 2
}
